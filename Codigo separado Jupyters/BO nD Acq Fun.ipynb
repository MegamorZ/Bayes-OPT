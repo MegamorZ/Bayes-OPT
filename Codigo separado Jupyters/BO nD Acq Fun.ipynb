{
 "cells": [
  {
   "cell_type": "markdown",
   "metadata": {},
   "source": [
    "# Bayesian optimization in nD\n",
    "\n",
    "usando sklearn"
   ]
  },
  {
   "cell_type": "markdown",
   "metadata": {},
   "source": [
    "## Funcion a optimizar\n",
    "\n",
    "lee excel"
   ]
  },
  {
   "cell_type": "code",
   "execution_count": 1,
   "metadata": {},
   "outputs": [
    {
     "name": "stdout",
     "output_type": "stream",
     "text": [
      "[[-3 -3 -3]\n",
      " [-3 -3  3]\n",
      " [-3  3 -3]\n",
      " [-3  3  3]\n",
      " [ 3 -3 -3]\n",
      " [ 3 -3  3]\n",
      " [ 3  3 -3]\n",
      " [ 3  3  3]\n",
      " [ 0  0  0]]\n",
      "[[48]\n",
      " [36]\n",
      " [36]\n",
      " [24]\n",
      " [36]\n",
      " [24]\n",
      " [24]\n",
      " [12]\n",
      " [57]]\n"
     ]
    }
   ],
   "source": [
    "import pandas as pd\n",
    "import numpy as np\n",
    "\n",
    "np.random.seed(1)\n",
    "\n",
    "# bounds poner a mano por cada variable (min, max)\n",
    "bounds=[(-3,3),(-3,3),(-3,3)]\n",
    "\n",
    "df1=pd.read_excel('Test.xlsx')#,header = None)\n",
    "ndim=df1.shape[1]-1\n",
    "xheader=(df1.columns.tolist()[0:ndim])\n",
    "\n",
    "X_init=df1.iloc[:,0:ndim].values\n",
    "Y_init=df1.iloc[:,ndim:ndim+1].values\n",
    "\n",
    "print(X_init)\n",
    "print(Y_init)"
   ]
  },
  {
   "cell_type": "markdown",
   "metadata": {},
   "source": [
    "### Data preparation\n",
    "\n",
    "Estos son los datos con los que se entrena el modelo \n",
    "\n",
    "X_init (:,n) Inputs\n",
    "\n",
    "Y_init (:,1) Respuestas"
   ]
  },
  {
   "cell_type": "code",
   "execution_count": 2,
   "metadata": {},
   "outputs": [
    {
     "data": {
      "text/plain": [
       "GaussianProcessRegressor(alpha=0.1, copy_X_train=True,\n",
       "                         kernel=RBF(length_scale=1), n_restarts_optimizer=0,\n",
       "                         normalize_y=False, optimizer='fmin_l_bfgs_b',\n",
       "                         random_state=None)"
      ]
     },
     "execution_count": 2,
     "metadata": {},
     "output_type": "execute_result"
    }
   ],
   "source": [
    "#Core Gaussian process con sklearn\n",
    "\n",
    "from sklearn.gaussian_process import GaussianProcessRegressor\n",
    "from sklearn.gaussian_process.kernels import RBF\n",
    "\n",
    "\n",
    "kernel = RBF(length_scale=1.0, length_scale_bounds=(1e-1, 10.0))\n",
    "gp = GaussianProcessRegressor(kernel=kernel,alpha=0.1)\n",
    "gp.fit(X_init, Y_init)"
   ]
  },
  {
   "cell_type": "markdown",
   "metadata": {},
   "source": [
    "##  Acquisition Functions"
   ]
  },
  {
   "cell_type": "code",
   "execution_count": 3,
   "metadata": {},
   "outputs": [],
   "source": [
    "import scipy\n",
    "import numpy\n",
    "\n",
    "# utility function : UCB\n",
    "\n",
    "def UCB(x):\n",
    "    # Make the prediction on the meshed x-axis (ask for MSE as well)\n",
    "    x1=np.array(x).reshape(-1,ndim)\n",
    "    y_pred, sigma = gp.predict(x1, return_std=True)\n",
    "    return -(y_pred + 1.96 * sigma)\n",
    "\n",
    "\n",
    "#test UCB function\n",
    "# x0 = [0,-1.5,1]\n",
    "# print(UCB(x0))\n",
    "\n",
    "    \n",
    "def PI(x):\n",
    "\t\"\"\"\n",
    "\tProbability of improvement acquisition function\n",
    "\tINPUT:\n",
    "\t\t- muNew: mean of predicted point in grid\n",
    "\t\t- stdNew: sigma (square root of variance) of predicted point in grid\n",
    "\t\t- fMax: observed or predicted maximum value (depending on noise p.19 [Brochu et al. 2010])\n",
    "\t\t- epsilon: trade-off parameter (>=0)\n",
    "\tOUTPUT:\n",
    "\t\t- PI: probability of improvement for candidate point\n",
    "\tAs describend in:\n",
    "\t\tE Brochu, VM Cora, & N de Freitas (2010): \n",
    "\t\tA Tutorial on Bayesian Optimization of Expensive Cost Functions, with Application to Active User Modeling and Hierarchical Reinforcement Learning,\n",
    "\t\tarXiv:1012.2599, http://arxiv.org/abs/1012.2599.\n",
    "\t\"\"\"\n",
    "\tepsilon = 0.1\n",
    "\tx1=np.array(x).reshape(-1,ndim)\n",
    "\tmuNew, stdNew = gp.predict(x1, return_std=True)\n",
    "\tfMax=max(Y_init)\n",
    "    \n",
    "\tZ = (muNew - fMax - epsilon)/stdNew\n",
    "\n",
    "\treturn -scipy.stats.norm.cdf(Z) \n",
    "\n",
    "\n",
    "def EI(x):\n",
    "\t\"\"\"\n",
    "\tExpected improvement acquisition function\n",
    "\tINPUT:\n",
    "\t\t- muNew: mean of predicted point in grid\n",
    "\t\t- stdNew: sigma (square root of variance) of predicted point in grid\n",
    "\t\t- fMax: observed or predicted maximum value (depending on noise p.19 Brochu et al. 2010)\n",
    "\t\t- epsilon: trade-off parameter (>=0) \n",
    "\t\t\t[Lizotte 2008] suggest setting epsilon = 0.01 (scaled by the signal variance if necessary)  (p.14 [Brochu et al. 2010])\t\t\n",
    "\tOUTPUT:\n",
    "\t\t- EI: expected improvement for candidate point\n",
    "\tAs describend in:\n",
    "\t\tE Brochu, VM Cora, & N de Freitas (2010): \n",
    "\t\tA Tutorial on Bayesian Optimization of Expensive Cost Functions, with Application to Active User Modeling and Hierarchical Reinforcement Learning, \n",
    "\t\tarXiv:1012.2599, http://arxiv.org/abs/1012.2599.\n",
    "\t\"\"\"\n",
    "\tepsilon = 0.1\n",
    "\tx1=np.array(x).reshape(-1,ndim)\n",
    "\tmuNew, stdNew = gp.predict(x1, return_std=True)\n",
    "\tfMax=max(Y_init)\n",
    "\tZ = (muNew - fMax - epsilon)/stdNew\n",
    "\t#print(fMax)\n",
    "\treturn -((muNew - fMax - epsilon)* scipy.stats.norm.cdf(Z) + stdNew*scipy.stats.norm.pdf(Z))\n",
    "\n",
    "\n",
    "def UCB2(x, t=X_init.shape[0]):\n",
    "\t\"\"\"\n",
    "\tUpper confidence bound acquisition function\n",
    "\tINPUT:\n",
    "\t\t- muNew: predicted mean\n",
    "\t\t- stdNew: sigma (square root of variance) of predicted point in grid\n",
    "\t\t- t: number of iteration\n",
    "\t\t- d: dimension of optimization space\n",
    "\t\t- v: hyperparameter v = 1*\n",
    "\t\t- delta: small constant (prob of regret)\n",
    "\t\t*These bounds hold for reasonably smooth kernel functions.\n",
    "\t\t[Srinivas et al., 2010]\n",
    "\t\tOUTPUT:\n",
    "\t\t- UCB: upper confidence bound for candidate point\n",
    "\tAs describend in:\n",
    "\t\tE Brochu, VM Cora, & N de Freitas (2010): \n",
    "\t\tA Tutorial on Bayesian Optimization of Expensive Cost Functions, with Application to Active User Modeling and Hierarchical Reinforcement Learning, \n",
    "\t\tarXiv:1012.2599, http://arxiv.org/abs/1012.2599.\n",
    "\t\"\"\"\n",
    "\td=ndim\n",
    "\tv=1\n",
    "\tdelta=.1\n",
    "\t\n",
    "\tepsilon = 0.01\n",
    "\tx1=np.array(x).reshape(-1,ndim)\n",
    "\tmuNew, stdNew = gp.predict(x1, return_std=True)\n",
    "\tfMax=max(Y_init)\n",
    "\tKappa = numpy.sqrt( v* (2*  numpy.log( (t**(d/2. + 2))*(numpy.pi**2)/(3. * delta)  )))\n",
    "\t#print(Kappa)\n",
    "\treturn -(muNew + Kappa * stdNew)\n"
   ]
  },
  {
   "cell_type": "markdown",
   "metadata": {},
   "source": [
    "## Maximization Acquisition function"
   ]
  },
  {
   "cell_type": "code",
   "execution_count": 4,
   "metadata": {},
   "outputs": [
    {
     "name": "stdout",
     "output_type": "stream",
     "text": [
      "X PI:---PI:\n",
      "[-1.16387066 -1.16386986 -1.16387117]---[0.21477281]\n",
      "X EI:---EI:\n",
      "[-1.88242565 -0.92664025 -0.61940562]---[5.14114625e-07]\n",
      "X UCB:---UCB:\n",
      "[-1.16501109 -1.16501053 -1.16501083]---[57.41602642]\n",
      "X UCB2:---UCB2:\n",
      "[-1.16768136 -1.16768152 -1.16768146]---[58.1640873]\n"
     ]
    }
   ],
   "source": [
    "#para encontrar el optimo global se repite la minimizacion partiendo de diferentes x0 (seeds)\n",
    "\n",
    "from scipy.optimize import minimize\n",
    "import random\n",
    "\n",
    "n_iter=20\n",
    "y_max=max(Y_init)\n",
    "#max_acq=y_max\n",
    "fPI=0\n",
    "fEI=0\n",
    "fUCB=0\n",
    "fUCB2=0\n",
    "\n",
    "# preparar las seeds\n",
    "bds=np.array(bounds)\n",
    "\n",
    "#ndim=bds.shape[0]\n",
    "xe = np.random.uniform(0, 1,size=(n_iter, ndim))\n",
    "x_seeds= xe\n",
    "#print(ndim)\n",
    "for dim in [0,1,ndim-1]:\n",
    "        x_seeds[:,dim]= xe[:,dim]*(bds[dim,1]-bds[dim,0])+bds[dim,0]\n",
    "for x_try in x_seeds:\n",
    "        # Find the minimum of minus the acquisition function\n",
    " #       print(x_try)\n",
    "        res_PI=minimize(fun=PI,x0=x_try,method=\"L-BFGS-B\",bounds=bds)\n",
    "        res_EI=minimize(fun=EI,x0=x_try,method=\"L-BFGS-B\",bounds=bds)\n",
    "        res_UCB=minimize(fun=UCB,x0=x_try,method=\"L-BFGS-B\",bounds=bds)\n",
    "        res_UCB2=minimize(fun=UCB2,x0=x_try,method=\"L-BFGS-B\",bounds=bds)\n",
    "        \n",
    "#         Store it if better than previous minimum(maximum).\n",
    "        if fPI is None or  -res_PI.fun[0] >= fPI:\n",
    "            x_PI_max = res_PI.x\n",
    "            fPI = -res_PI.fun[0]\n",
    "        if fEI is None or -res_EI.fun[0] >= fEI:  \n",
    "            x_EI_max = res_EI.x\n",
    "            fEI = -res_EI.fun[0]\n",
    "        if fUCB is None or -res_UCB.fun[0] >= fUCB:   \n",
    "            x_UCB_max = res_UCB.x        \n",
    "            fUCB = -res_UCB.fun[0]\n",
    "        if fUCB2 is None or -res_UCB2.fun[0] >= fUCB2:  \n",
    "            x_UCB2_max = res_UCB2.x\n",
    "            fUCB2 = -res_UCB2.fun[0]\n",
    "            \n",
    "            \n",
    "\n",
    "print (\"X PI:\", \"PI:\",sep=\"---\")\n",
    "print (x_PI_max,fPI,sep=\"---\") \n",
    "print (\"X EI:\", \"EI:\",sep=\"---\")\n",
    "print (x_EI_max,fEI,sep=\"---\")\n",
    "print (\"X UCB:\", \"UCB:\",sep=\"---\")\n",
    "print (x_UCB_max,fUCB,sep=\"---\")\n",
    "print (\"X UCB2:\", \"UCB2:\",sep=\"---\")\n",
    "print (x_UCB2_max,fUCB2,sep=\"---\")\n",
    "\n",
    "#1: PI:1, EI=4.82, UCB2=62.62\n",
    "#2: PI:1e-147, EI=6e-150, UCB2=60.1\n",
    "#0.5699\t-1.057\t-1.805\n"
   ]
  },
  {
   "cell_type": "markdown",
   "metadata": {},
   "source": [
    "### Escribe el excel"
   ]
  },
  {
   "cell_type": "code",
   "execution_count": 5,
   "metadata": {},
   "outputs": [
    {
     "data": {
      "text/html": [
       "<div>\n",
       "<style scoped>\n",
       "    .dataframe tbody tr th:only-of-type {\n",
       "        vertical-align: middle;\n",
       "    }\n",
       "\n",
       "    .dataframe tbody tr th {\n",
       "        vertical-align: top;\n",
       "    }\n",
       "\n",
       "    .dataframe thead th {\n",
       "        text-align: right;\n",
       "    }\n",
       "</style>\n",
       "<table border=\"1\" class=\"dataframe\">\n",
       "  <thead>\n",
       "    <tr style=\"text-align: right;\">\n",
       "      <th></th>\n",
       "      <th>X1</th>\n",
       "      <th>X2</th>\n",
       "      <th>X3</th>\n",
       "      <th>Y</th>\n",
       "    </tr>\n",
       "  </thead>\n",
       "  <tbody>\n",
       "    <tr>\n",
       "      <td>0</td>\n",
       "      <td>-3.000000</td>\n",
       "      <td>-3.00000</td>\n",
       "      <td>-3.000000</td>\n",
       "      <td>48.0</td>\n",
       "    </tr>\n",
       "    <tr>\n",
       "      <td>1</td>\n",
       "      <td>-3.000000</td>\n",
       "      <td>-3.00000</td>\n",
       "      <td>3.000000</td>\n",
       "      <td>36.0</td>\n",
       "    </tr>\n",
       "    <tr>\n",
       "      <td>2</td>\n",
       "      <td>-3.000000</td>\n",
       "      <td>3.00000</td>\n",
       "      <td>-3.000000</td>\n",
       "      <td>36.0</td>\n",
       "    </tr>\n",
       "    <tr>\n",
       "      <td>3</td>\n",
       "      <td>-3.000000</td>\n",
       "      <td>3.00000</td>\n",
       "      <td>3.000000</td>\n",
       "      <td>24.0</td>\n",
       "    </tr>\n",
       "    <tr>\n",
       "      <td>4</td>\n",
       "      <td>3.000000</td>\n",
       "      <td>-3.00000</td>\n",
       "      <td>-3.000000</td>\n",
       "      <td>36.0</td>\n",
       "    </tr>\n",
       "    <tr>\n",
       "      <td>5</td>\n",
       "      <td>3.000000</td>\n",
       "      <td>-3.00000</td>\n",
       "      <td>3.000000</td>\n",
       "      <td>24.0</td>\n",
       "    </tr>\n",
       "    <tr>\n",
       "      <td>6</td>\n",
       "      <td>3.000000</td>\n",
       "      <td>3.00000</td>\n",
       "      <td>-3.000000</td>\n",
       "      <td>24.0</td>\n",
       "    </tr>\n",
       "    <tr>\n",
       "      <td>7</td>\n",
       "      <td>3.000000</td>\n",
       "      <td>3.00000</td>\n",
       "      <td>3.000000</td>\n",
       "      <td>12.0</td>\n",
       "    </tr>\n",
       "    <tr>\n",
       "      <td>8</td>\n",
       "      <td>0.000000</td>\n",
       "      <td>0.00000</td>\n",
       "      <td>0.000000</td>\n",
       "      <td>57.0</td>\n",
       "    </tr>\n",
       "    <tr>\n",
       "      <td>0</td>\n",
       "      <td>-1.882426</td>\n",
       "      <td>-0.92664</td>\n",
       "      <td>-0.619406</td>\n",
       "      <td>NaN</td>\n",
       "    </tr>\n",
       "  </tbody>\n",
       "</table>\n",
       "</div>"
      ],
      "text/plain": [
       "         X1       X2        X3     Y\n",
       "0 -3.000000 -3.00000 -3.000000  48.0\n",
       "1 -3.000000 -3.00000  3.000000  36.0\n",
       "2 -3.000000  3.00000 -3.000000  36.0\n",
       "3 -3.000000  3.00000  3.000000  24.0\n",
       "4  3.000000 -3.00000 -3.000000  36.0\n",
       "5  3.000000 -3.00000  3.000000  24.0\n",
       "6  3.000000  3.00000 -3.000000  24.0\n",
       "7  3.000000  3.00000  3.000000  12.0\n",
       "8  0.000000  0.00000  0.000000  57.0\n",
       "0 -1.882426 -0.92664 -0.619406   NaN"
      ]
     },
     "execution_count": 5,
     "metadata": {},
     "output_type": "execute_result"
    }
   ],
   "source": [
    "df2=pd.DataFrame(x_EI_max)\n",
    "df2=df2.transpose()\n",
    "df2.columns=xheader\n",
    "df1=df1.append(df2,sort=False)\n",
    "df1\n",
    "#df1.to_excel('Test.xlsx',index=False)"
   ]
  },
  {
   "cell_type": "markdown",
   "metadata": {},
   "source": [
    "### Plot distance between points"
   ]
  },
  {
   "cell_type": "code",
   "execution_count": 6,
   "metadata": {},
   "outputs": [
    {
     "name": "stdout",
     "output_type": "stream",
     "text": [
      "[1 2 3 4 5 6 7]\n",
      "[ 6.          8.48528137  6.         10.39230485  6.          8.48528137\n",
      "  6.        ]\n"
     ]
    },
    {
     "data": {
      "text/plain": [
       "[<matplotlib.lines.Line2D at 0x21a1ce0fac8>]"
      ]
     },
     "execution_count": 6,
     "metadata": {},
     "output_type": "execute_result"
    },
    {
     "data": {
      "image/png": "[encoded data removed]",
      "text/plain": [
       "<Figure size 432x288 with 1 Axes>"
      ]
     },
     "metadata": {
      "needs_background": "light"
     },
     "output_type": "display_data"
    }
   ],
   "source": [
    "import matplotlib.pyplot as plt\n",
    "%matplotlib inline\n",
    "\n",
    "N_punto = np.arange(1,df1.shape[0]-2,1)\n",
    "\n",
    "Dist=np.zeros(X_init.shape[0]-2)\n",
    "\n",
    "#print(N_punto.shape)\n",
    "for k in (N_punto):\n",
    "          #print(k)\n",
    "          Dist[k-1]=np.sqrt(np.sum((X_init[k,:]-X_init[k-1,:])**2))\n",
    "\n",
    "print(N_punto)    \n",
    "print(Dist)\n",
    "\n",
    "\n",
    "plt.plot(N_punto,Dist,'-o')\n",
    "plt.plot(max(N_punto)+1,np.sqrt(np.sum((X_init[-1,:]-x_EI_max)**2)),'*')\n",
    "plt.plot(max(N_punto)+1,np.sqrt(np.sum((X_init[-1,:]-x_PI_max)**2)),'*',color='green')\n",
    "plt.plot(max(N_punto)+1,np.sqrt(np.sum((X_init[-1,:]-x_UCB2_max)**2)),'*',color='red')"
   ]
  },
  {
   "cell_type": "code",
   "execution_count": null,
   "metadata": {},
   "outputs": [],
   "source": []
  }
 ],
 "metadata": {
  "kernelspec": {
   "display_name": "Python 3",
   "language": "python",
   "name": "python3"
  },
  "language_info": {
   "codemirror_mode": {
    "name": "ipython",
    "version": 3
   },
   "file_extension": ".py",
   "mimetype": "text/x-python",
   "name": "python",
   "nbconvert_exporter": "python",
   "pygments_lexer": "ipython3",
   "version": "3.7.4"
  }
 },
 "nbformat": 4,
 "nbformat_minor": 2
}
